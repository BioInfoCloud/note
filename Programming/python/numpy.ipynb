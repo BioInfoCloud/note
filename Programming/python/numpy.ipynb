{
 "cells": [
  {
   "attachments": {},
   "cell_type": "markdown",
   "id": "41a953a8",
   "metadata": {},
   "source": [
    "通用一元函数\n",
    "\n",
    "abs() / sqrt() / square() / exp() / log() / log2() / log10() / ceil() / floor() / sin() / cos() / tan() / arcsin() / arccos() / round() / isnan() / isinf()\n",
    "\n",
    "通用二元函数\n",
    "\n",
    "add() / substract() / multiply() / divide() / mod() / power() / dot() / inner() / cross() / outer() / intersect1d() / union1d() / setdiff1d()"
   ]
  },
  {
   "cell_type": "code",
   "execution_count": 1,
   "id": "bcfa7168",
   "metadata": {},
   "outputs": [],
   "source": [
    "import numpy as np\n",
    "import pandas as pd\n",
    "import matplotlib.pyplot as plt"
   ]
  },
  {
   "cell_type": "markdown",
   "id": "834d0204",
   "metadata": {},
   "source": [
    "如果已经启动了 Notebook 但尚未安装相关依赖库，例如尚未安装 numpy ，可以在 Notebook\n",
    "的单元格中输⼊ `!pip install numpy` 并运⾏该单元格来安装 NumPy，也可以⼀次性安装多个三⽅\n",
    "库，需要在单元格中输⼊ `%pip install numpy pandas matplotlib` 。注意上⾯的代码，我们不仅导⼊\n",
    "了NumPy，还将 pandas 和 matplotlib 库⼀并导⼊了。"
   ]
  },
  {
   "cell_type": "markdown",
   "id": "fa32b7eb",
   "metadata": {},
   "source": [
    "# 1.创建数组对象\n",
    "创建 ndarray 对象有很多种⽅法，下⾯就如何创建⼀维数组、⼆维数组和多维数组进⾏说明。\n",
    "## 1.1 ⼀维数组\n",
    "⽅法⼀：使⽤ array 函数，通过 list 创建数组对象\n",
    "\n",
    "代码："
   ]
  },
  {
   "cell_type": "code",
   "execution_count": 2,
   "id": "1613a15e",
   "metadata": {},
   "outputs": [
    {
     "data": {
      "text/plain": [
       "array([1, 2, 3, 4, 5])"
      ]
     },
     "execution_count": 2,
     "metadata": {},
     "output_type": "execute_result"
    }
   ],
   "source": [
    "array1 = np.array([1, 2, 3, 4, 5])\n",
    "array1"
   ]
  },
  {
   "cell_type": "markdown",
   "id": "e23b9685",
   "metadata": {},
   "source": [
    "⽅法⼆：使⽤ arange 函数，指定取值范围创建数组对象\n",
    "\n",
    "代码："
   ]
  },
  {
   "cell_type": "code",
   "execution_count": 3,
   "id": "cef4b41f",
   "metadata": {},
   "outputs": [
    {
     "data": {
      "text/plain": [
       "array([ 0,  2,  4,  6,  8, 10, 12, 14, 16, 18])"
      ]
     },
     "execution_count": 3,
     "metadata": {},
     "output_type": "execute_result"
    }
   ],
   "source": [
    "array2 = np.arange(0, 20, 2)\n",
    "array2"
   ]
  },
  {
   "cell_type": "markdown",
   "id": "2cf2a3bc",
   "metadata": {},
   "source": [
    "⽅法三：使⽤ linspace 函数，⽤指定范围均匀间隔的数字创建数组对象\n",
    "\n",
    "代码："
   ]
  },
  {
   "cell_type": "code",
   "execution_count": 4,
   "id": "e74eab8f",
   "metadata": {},
   "outputs": [
    {
     "data": {
      "text/plain": [
       "array([-5. , -4.9, -4.8, -4.7, -4.6, -4.5, -4.4, -4.3, -4.2, -4.1, -4. ,\n",
       "       -3.9, -3.8, -3.7, -3.6, -3.5, -3.4, -3.3, -3.2, -3.1, -3. , -2.9,\n",
       "       -2.8, -2.7, -2.6, -2.5, -2.4, -2.3, -2.2, -2.1, -2. , -1.9, -1.8,\n",
       "       -1.7, -1.6, -1.5, -1.4, -1.3, -1.2, -1.1, -1. , -0.9, -0.8, -0.7,\n",
       "       -0.6, -0.5, -0.4, -0.3, -0.2, -0.1,  0. ,  0.1,  0.2,  0.3,  0.4,\n",
       "        0.5,  0.6,  0.7,  0.8,  0.9,  1. ,  1.1,  1.2,  1.3,  1.4,  1.5,\n",
       "        1.6,  1.7,  1.8,  1.9,  2. ,  2.1,  2.2,  2.3,  2.4,  2.5,  2.6,\n",
       "        2.7,  2.8,  2.9,  3. ,  3.1,  3.2,  3.3,  3.4,  3.5,  3.6,  3.7,\n",
       "        3.8,  3.9,  4. ,  4.1,  4.2,  4.3,  4.4,  4.5,  4.6,  4.7,  4.8,\n",
       "        4.9,  5. ])"
      ]
     },
     "execution_count": 4,
     "metadata": {},
     "output_type": "execute_result"
    }
   ],
   "source": [
    "array3 = np.linspace(-5, 5, 101)\n",
    "array3"
   ]
  },
  {
   "cell_type": "markdown",
   "id": "e19d7b1b",
   "metadata": {},
   "source": [
    "⽅法四：使⽤ numpy.random 模块的函数⽣成随机数创建数组对象\n",
    "\n",
    "产⽣10个 范围的随机⼩数，代码："
   ]
  },
  {
   "cell_type": "code",
   "execution_count": 5,
   "id": "85fca4b1",
   "metadata": {},
   "outputs": [
    {
     "data": {
      "text/plain": [
       "array([0.20428427, 0.49608764, 0.08950477, 0.98494363, 0.3974631 ,\n",
       "       0.45707951, 0.85051009, 0.42975832, 0.81901529, 0.63863295])"
      ]
     },
     "execution_count": 5,
     "metadata": {},
     "output_type": "execute_result"
    }
   ],
   "source": [
    "array4 = np.random.rand(10)\n",
    "array4"
   ]
  },
  {
   "cell_type": "markdown",
   "id": "17d35d1a",
   "metadata": {},
   "source": [
    "产⽣10个[1,100)范围的随机整数，代码："
   ]
  },
  {
   "cell_type": "code",
   "execution_count": 6,
   "id": "3d09bc8e",
   "metadata": {},
   "outputs": [
    {
     "data": {
      "text/plain": [
       "array([59, 58, 32,  5, 64, 52, 95,  8, 86, 68])"
      ]
     },
     "execution_count": 6,
     "metadata": {},
     "output_type": "execute_result"
    }
   ],
   "source": [
    "array5 = np.random.randint(1, 100, 10)\n",
    "array5"
   ]
  },
  {
   "cell_type": "markdown",
   "id": "64052eab",
   "metadata": {},
   "source": [
    "产⽣20个 ， 的正态分布随机数，代码："
   ]
  },
  {
   "cell_type": "code",
   "execution_count": 7,
   "id": "3542415c",
   "metadata": {},
   "outputs": [
    {
     "data": {
      "text/plain": [
       "array([55.1025396 , 46.27838868, 52.13750212, 50.07276008, 65.16738885,\n",
       "       38.97636743, 51.2117446 , 54.64068039, 44.26068514, 55.2642847 ,\n",
       "       41.55681965, 43.1920184 , 61.62927089, 62.0965554 , 52.6403474 ,\n",
       "       60.94268609, 45.60638455, 47.11781316, 56.38311871, 54.45587635])"
      ]
     },
     "execution_count": 7,
     "metadata": {},
     "output_type": "execute_result"
    }
   ],
   "source": [
    "array6 = np.random.normal(50, 10, 20)\n",
    "array6"
   ]
  },
  {
   "cell_type": "markdown",
   "id": "44ab7dd7",
   "metadata": {},
   "source": [
    "## 1.2 ⼆维数组\n",
    "\n",
    "⽅法⼀：使⽤ array 函数，通过嵌套的 list 创建数组对象\n",
    "\n",
    "代码："
   ]
  },
  {
   "cell_type": "code",
   "execution_count": 8,
   "id": "39c53992",
   "metadata": {},
   "outputs": [
    {
     "data": {
      "text/plain": [
       "array([[1, 2, 3],\n",
       "       [4, 5, 6]])"
      ]
     },
     "execution_count": 8,
     "metadata": {},
     "output_type": "execute_result"
    }
   ],
   "source": [
    "array7 = np.array([[1, 2, 3], [4, 5, 6]])\n",
    "array7"
   ]
  },
  {
   "cell_type": "markdown",
   "id": "eecefd46",
   "metadata": {},
   "source": [
    "⽅法⼆：使⽤ zeros 、 ones 、 full 函数指定数组的形状创建数组对象\n",
    "\n",
    "使⽤ zeros 函数，代码："
   ]
  },
  {
   "cell_type": "code",
   "execution_count": 9,
   "id": "49d8cfd2",
   "metadata": {},
   "outputs": [
    {
     "data": {
      "text/plain": [
       "array([[0., 0., 0., 0.],\n",
       "       [0., 0., 0., 0.],\n",
       "       [0., 0., 0., 0.]])"
      ]
     },
     "execution_count": 9,
     "metadata": {},
     "output_type": "execute_result"
    }
   ],
   "source": [
    "array8 = np.zeros((3, 4))\n",
    "array8"
   ]
  },
  {
   "cell_type": "markdown",
   "id": "237b21b9",
   "metadata": {},
   "source": [
    "使⽤ ones 函数，代码："
   ]
  },
  {
   "cell_type": "code",
   "execution_count": 10,
   "id": "06e6903c",
   "metadata": {},
   "outputs": [
    {
     "data": {
      "text/plain": [
       "array([[1., 1., 1., 1.],\n",
       "       [1., 1., 1., 1.],\n",
       "       [1., 1., 1., 1.]])"
      ]
     },
     "execution_count": 10,
     "metadata": {},
     "output_type": "execute_result"
    }
   ],
   "source": [
    "array9 = np.ones((3, 4))\n",
    "array9"
   ]
  },
  {
   "cell_type": "markdown",
   "id": "500cac2a",
   "metadata": {},
   "source": [
    "使⽤ full 函数，代码："
   ]
  },
  {
   "cell_type": "code",
   "execution_count": 11,
   "id": "ad3f97a8",
   "metadata": {},
   "outputs": [
    {
     "data": {
      "text/plain": [
       "array([[10, 10, 10, 10],\n",
       "       [10, 10, 10, 10],\n",
       "       [10, 10, 10, 10]])"
      ]
     },
     "execution_count": 11,
     "metadata": {},
     "output_type": "execute_result"
    }
   ],
   "source": [
    "array10 = np.full((3, 4), 10)\n",
    "array10"
   ]
  },
  {
   "cell_type": "markdown",
   "id": "1e334127",
   "metadata": {},
   "source": [
    "⽅法三：使⽤eye函数创建单位矩阵\n",
    "\n",
    "代码："
   ]
  },
  {
   "cell_type": "code",
   "execution_count": 12,
   "id": "91a06473",
   "metadata": {},
   "outputs": [
    {
     "data": {
      "text/plain": [
       "array([[1., 0., 0., 0.],\n",
       "       [0., 1., 0., 0.],\n",
       "       [0., 0., 1., 0.],\n",
       "       [0., 0., 0., 1.]])"
      ]
     },
     "execution_count": 12,
     "metadata": {},
     "output_type": "execute_result"
    }
   ],
   "source": [
    "array11 = np.eye(4)\n",
    "array11"
   ]
  },
  {
   "cell_type": "markdown",
   "id": "04088355",
   "metadata": {},
   "source": [
    "⽅法四：通过 reshape 将⼀维数组变成⼆维数组\n",
    "\n",
    "代码："
   ]
  },
  {
   "cell_type": "code",
   "execution_count": 13,
   "id": "8bd3eb81",
   "metadata": {},
   "outputs": [
    {
     "data": {
      "text/plain": [
       "array([[1, 2, 3],\n",
       "       [4, 5, 6]])"
      ]
     },
     "execution_count": 13,
     "metadata": {},
     "output_type": "execute_result"
    }
   ],
   "source": [
    "array12 = np.array([1, 2, 3, 4, 5, 6]).reshape(2, 3)\n",
    "array12"
   ]
  },
  {
   "cell_type": "markdown",
   "id": "1d1b33ed",
   "metadata": {},
   "source": [
    "> 提示： reshape 是 ndarray 对象的⼀个⽅法，使⽤ reshape ⽅法时需要确保调形后的数组元素个数与调\n",
    "形前数组元素个数保持⼀致，否则将会产⽣异常。"
   ]
  },
  {
   "cell_type": "markdown",
   "id": "2ddb5179",
   "metadata": {},
   "source": [
    "⽅法五：通过 numpy.random 模块的函数⽣成随机数创建数组对象\n",
    "\n",
    "产⽣ 范围的随机⼩数构成的3⾏4列的⼆维数组，代码："
   ]
  },
  {
   "cell_type": "code",
   "execution_count": 14,
   "id": "467e6722",
   "metadata": {},
   "outputs": [
    {
     "data": {
      "text/plain": [
       "array([[0.04778408, 0.58424096, 0.52167333, 0.28053032],\n",
       "       [0.81798852, 0.39551909, 0.39487919, 0.75145468],\n",
       "       [0.64650891, 0.67058731, 0.03179258, 0.03581326]])"
      ]
     },
     "execution_count": 14,
     "metadata": {},
     "output_type": "execute_result"
    }
   ],
   "source": [
    "array13 = np.random.rand(3, 4)\n",
    "array13"
   ]
  },
  {
   "cell_type": "markdown",
   "id": "482e96b8",
   "metadata": {},
   "source": [
    "产⽣ 范围的随机整数构成的3⾏4列的⼆维数组，代码："
   ]
  },
  {
   "cell_type": "code",
   "execution_count": 15,
   "id": "d759c566",
   "metadata": {},
   "outputs": [
    {
     "data": {
      "text/plain": [
       "array([[ 5, 32, 90, 98],\n",
       "       [93, 51, 63, 28],\n",
       "       [40, 81, 94, 21]])"
      ]
     },
     "execution_count": 15,
     "metadata": {},
     "output_type": "execute_result"
    }
   ],
   "source": [
    "array14 = np.random.randint(1, 100, (3, 4))\n",
    "array14"
   ]
  },
  {
   "cell_type": "markdown",
   "id": "548a12ac",
   "metadata": {},
   "source": [
    "## 1.3 多维数组\n",
    "使⽤随机的⽅式创建多维数组\n",
    "\n",
    "代码："
   ]
  },
  {
   "cell_type": "code",
   "execution_count": 16,
   "id": "461f0d6f",
   "metadata": {},
   "outputs": [
    {
     "data": {
      "text/plain": [
       "array([[[85, 80, 60, 76, 40],\n",
       "        [24,  8, 36, 95, 10],\n",
       "        [16, 12, 88, 19, 66],\n",
       "        [ 9, 48, 51, 11, 13]],\n",
       "\n",
       "       [[42,  4, 11, 32, 87],\n",
       "        [76, 33, 19,  9, 57],\n",
       "        [23,  5, 83, 34, 41],\n",
       "        [20, 60, 73, 33, 89]],\n",
       "\n",
       "       [[91, 20, 88, 10, 21],\n",
       "        [91, 84, 10, 79, 26],\n",
       "        [36, 68, 39, 90, 52],\n",
       "        [30, 54, 93, 40, 68]]])"
      ]
     },
     "execution_count": 16,
     "metadata": {},
     "output_type": "execute_result"
    }
   ],
   "source": [
    "array15 = np.random.randint(1, 100, (3, 4, 5))\n",
    "array15"
   ]
  },
  {
   "cell_type": "markdown",
   "id": "2f971376",
   "metadata": {},
   "source": [
    "将⼀维⼆维的数组调形为多维数组\n",
    "\n",
    "⼀维数组调形为多维数组，代码："
   ]
  },
  {
   "cell_type": "code",
   "execution_count": 17,
   "id": "582eec88",
   "metadata": {},
   "outputs": [
    {
     "data": {
      "text/plain": [
       "array([[[ 1,  2,  3,  4],\n",
       "        [ 5,  6,  7,  8],\n",
       "        [ 9, 10, 11, 12]],\n",
       "\n",
       "       [[13, 14, 15, 16],\n",
       "        [17, 18, 19, 20],\n",
       "        [21, 22, 23, 24]]])"
      ]
     },
     "execution_count": 17,
     "metadata": {},
     "output_type": "execute_result"
    }
   ],
   "source": [
    "array16 = np.arange(1, 25).reshape((2, 3, 4))\n",
    "array16"
   ]
  },
  {
   "cell_type": "markdown",
   "id": "34334f0e",
   "metadata": {},
   "source": [
    "⼆维数组调形为多维数组，代码："
   ]
  },
  {
   "cell_type": "code",
   "execution_count": 18,
   "id": "aeab1d4f",
   "metadata": {},
   "outputs": [
    {
     "data": {
      "text/plain": [
       "array([[[28, 17],\n",
       "        [13, 42],\n",
       "        [ 3, 92]],\n",
       "\n",
       "       [[38, 56],\n",
       "        [25, 43],\n",
       "        [ 9, 55]],\n",
       "\n",
       "       [[ 8, 43],\n",
       "        [32,  1],\n",
       "        [14, 60]],\n",
       "\n",
       "       [[60, 94],\n",
       "        [56, 42],\n",
       "        [89, 55]]])"
      ]
     },
     "execution_count": 18,
     "metadata": {},
     "output_type": "execute_result"
    }
   ],
   "source": [
    "array17 = np.random.randint(1, 100, (4, 6)).reshape((4, 3, 2))\n",
    "array17"
   ]
  },
  {
   "cell_type": "markdown",
   "id": "979c3fe6",
   "metadata": {},
   "source": [
    "读取图⽚获得对应的三维数组\n",
    "\n",
    "代码:"
   ]
  },
  {
   "cell_type": "code",
   "execution_count": 21,
   "id": "7687343a",
   "metadata": {},
   "outputs": [
    {
     "data": {
      "text/plain": [
       "array([[[1., 1., 1., 0.],\n",
       "        [1., 1., 1., 0.],\n",
       "        [1., 1., 1., 0.],\n",
       "        ...,\n",
       "        [1., 1., 1., 0.],\n",
       "        [1., 1., 1., 0.],\n",
       "        [1., 1., 1., 0.]],\n",
       "\n",
       "       [[1., 1., 1., 0.],\n",
       "        [1., 1., 1., 0.],\n",
       "        [1., 1., 1., 0.],\n",
       "        ...,\n",
       "        [1., 1., 1., 0.],\n",
       "        [1., 1., 1., 0.],\n",
       "        [1., 1., 1., 0.]],\n",
       "\n",
       "       [[1., 1., 1., 0.],\n",
       "        [1., 1., 1., 0.],\n",
       "        [1., 1., 1., 0.],\n",
       "        ...,\n",
       "        [1., 1., 1., 0.],\n",
       "        [1., 1., 1., 0.],\n",
       "        [1., 1., 1., 0.]],\n",
       "\n",
       "       ...,\n",
       "\n",
       "       [[1., 1., 1., 0.],\n",
       "        [1., 1., 1., 0.],\n",
       "        [1., 1., 1., 0.],\n",
       "        ...,\n",
       "        [1., 1., 1., 0.],\n",
       "        [1., 1., 1., 0.],\n",
       "        [1., 1., 1., 0.]],\n",
       "\n",
       "       [[1., 1., 1., 0.],\n",
       "        [1., 1., 1., 0.],\n",
       "        [1., 1., 1., 0.],\n",
       "        ...,\n",
       "        [1., 1., 1., 0.],\n",
       "        [1., 1., 1., 0.],\n",
       "        [1., 1., 1., 0.]],\n",
       "\n",
       "       [[1., 1., 1., 0.],\n",
       "        [1., 1., 1., 0.],\n",
       "        [1., 1., 1., 0.],\n",
       "        ...,\n",
       "        [1., 1., 1., 0.],\n",
       "        [1., 1., 1., 0.],\n",
       "        [1., 1., 1., 0.]]], dtype=float32)"
      ]
     },
     "execution_count": 21,
     "metadata": {},
     "output_type": "execute_result"
    }
   ],
   "source": [
    "array18 = plt.imread('image/logo.png')\n",
    "array18"
   ]
  },
  {
   "cell_type": "markdown",
   "id": "d88eea8d",
   "metadata": {},
   "source": [
    "> 说明：上⾯的代码读取了当前路径下名为 guido.jpg 的图⽚⽂件，计算机系统中的图⽚通常由若⼲⾏若⼲列的像素点构成，⽽每个像素点⼜是由红绿蓝三原⾊构成的，所以能够⽤三维数组来表示。读取图⽚⽤到了 matplotlib 库的 imread 函数。"
   ]
  },
  {
   "cell_type": "markdown",
   "id": "7d522736",
   "metadata": {},
   "source": [
    "# 2. 数组对象的属性\n",
    "## 2.1. size 属性：数组元素个数\n",
    "代码："
   ]
  },
  {
   "cell_type": "code",
   "execution_count": 22,
   "id": "2ce578cd",
   "metadata": {},
   "outputs": [
    {
     "name": "stdout",
     "output_type": "stream",
     "text": [
      "50 12\n"
     ]
    }
   ],
   "source": [
    "array19 = np.arange(1, 100, 2)\n",
    "array20 = np.random.rand(3, 4)\n",
    "print(array19.size, array20.size)"
   ]
  },
  {
   "cell_type": "markdown",
   "id": "f00f4b9e",
   "metadata": {},
   "source": [
    "## 2.2 shape 属性：数组的形状\n",
    "代码："
   ]
  },
  {
   "cell_type": "code",
   "execution_count": 23,
   "id": "f58c5810",
   "metadata": {},
   "outputs": [
    {
     "name": "stdout",
     "output_type": "stream",
     "text": [
      "(50,) (3, 4)\n"
     ]
    }
   ],
   "source": [
    "print(array19.shape, array20.shape)"
   ]
  },
  {
   "cell_type": "markdown",
   "id": "13440edc",
   "metadata": {},
   "source": [
    "## 2.3 dtype 属性：数组元素的数据类型\n",
    "代码："
   ]
  },
  {
   "cell_type": "code",
   "execution_count": 25,
   "id": "d8f7d3a6",
   "metadata": {},
   "outputs": [
    {
     "name": "stdout",
     "output_type": "stream",
     "text": [
      "int32 float64\n"
     ]
    }
   ],
   "source": [
    "print(array19.dtype, array20.dtype)"
   ]
  },
  {
   "cell_type": "markdown",
   "id": "5b01f5bd",
   "metadata": {},
   "source": [
    "ndarray 对象元素的数据类型可以参考如下所示的表格。\n",
    "![](https://medbioinfocloud-1251590549.cos.ap-guangzhou.myqcloud.com/notepic202303061521765.png)"
   ]
  },
  {
   "cell_type": "markdown",
   "id": "7079eb23",
   "metadata": {},
   "source": [
    "## 2.4 ndim 属性：数组的维度\n",
    "代码："
   ]
  },
  {
   "cell_type": "code",
   "execution_count": 27,
   "id": "e895b22c",
   "metadata": {},
   "outputs": [
    {
     "name": "stdout",
     "output_type": "stream",
     "text": [
      "1 2\n"
     ]
    }
   ],
   "source": [
    "print(array19.ndim, array20.ndim)"
   ]
  },
  {
   "cell_type": "markdown",
   "id": "b19b1997",
   "metadata": {},
   "source": [
    "## 2.5. itemsize 属性：数组单个元素占⽤内存空间的字节数\n",
    "代码："
   ]
  },
  {
   "cell_type": "code",
   "execution_count": 28,
   "id": "35545476",
   "metadata": {},
   "outputs": [
    {
     "name": "stdout",
     "output_type": "stream",
     "text": [
      "4 8 1\n"
     ]
    }
   ],
   "source": [
    "array21 = np.arange(1, 100, 2, dtype=np.int8)\n",
    "print(array19.itemsize, array20.itemsize, array21.itemsize)"
   ]
  },
  {
   "cell_type": "markdown",
   "id": "5d43caa9",
   "metadata": {},
   "source": [
    "> 说明：在使⽤ arange 创建数组对象时，通过 dtype 参数指定元素的数据类型。可以看出， np.int8 代\n",
    "表的是8位有符号整数，只占⽤1个字节的内存空间，取值范围是 。"
   ]
  },
  {
   "cell_type": "markdown",
   "id": "1ac2a62f",
   "metadata": {},
   "source": [
    "## 2.6. nbytes 属性：数组所有元素占⽤内存空间的字节数\n",
    "代码："
   ]
  },
  {
   "cell_type": "code",
   "execution_count": 30,
   "id": "d9eb3728",
   "metadata": {},
   "outputs": [
    {
     "name": "stdout",
     "output_type": "stream",
     "text": [
      "200 96 50\n"
     ]
    }
   ],
   "source": [
    "print(array19.nbytes, array20.nbytes, array21.nbytes)"
   ]
  },
  {
   "cell_type": "markdown",
   "id": "5ae8d8c4",
   "metadata": {},
   "source": [
    "## 2.7. flat 属性：数组（⼀维化之后）元素的迭代器"
   ]
  },
  {
   "cell_type": "code",
   "execution_count": 31,
   "id": "0d99c15e",
   "metadata": {},
   "outputs": [
    {
     "name": "stdout",
     "output_type": "stream",
     "text": [
      "False True\n"
     ]
    }
   ],
   "source": [
    "from typing import Iterable\n",
    "print(isinstance(array20.flat, np.ndarray), isinstance(array20.flat, Iterable))"
   ]
  },
  {
   "cell_type": "markdown",
   "id": "678b76cb",
   "metadata": {},
   "source": [
    "## 2.8. base 属性：数组的基对象（如果数组共享了其他数组的内存空间）\n",
    "代码："
   ]
  },
  {
   "cell_type": "code",
   "execution_count": 32,
   "id": "1d3053bb",
   "metadata": {},
   "outputs": [
    {
     "name": "stdout",
     "output_type": "stream",
     "text": [
      "True False\n"
     ]
    }
   ],
   "source": [
    "array22 = array19[:]\n",
    "print(array22.base is array19, array22.base is array21)"
   ]
  },
  {
   "cell_type": "markdown",
   "id": "4f46111c",
   "metadata": {},
   "source": [
    "> 说明：上⾯的代码⽤到了数组的切⽚操作，它类似于 Python 中 list 类型的切⽚，但在细节上⼜不完全相同，下⾯会专⻔讲解这个知识点。通过上⾯的代码可以发现， ndarray 切⽚后得到的新的数组对象跟原来的数组对象共享了内存中的数据，因此 array22 的 base 属性就是 array19 对应的数组对象。"
   ]
  },
  {
   "cell_type": "markdown",
   "id": "7deb851a",
   "metadata": {},
   "source": [
    "# 3. 数组的索引和切片\n",
    "和 Python 中的列表类似， NumPy 的 ndarray 对象可以进⾏索引和切⽚操作，通过索引可以获取或修改数组中的元素，通过切⽚可以取出数组的⼀部分。\n",
    "## 3.1. 索引运算（普通索引）\n",
    "⼀维数组，代码："
   ]
  },
  {
   "cell_type": "code",
   "execution_count": 34,
   "id": "d687211f",
   "metadata": {},
   "outputs": [
    {
     "name": "stdout",
     "output_type": "stream",
     "text": [
      "1 9\n",
      "1 9\n"
     ]
    }
   ],
   "source": [
    "array23 = np.array([1, 2, 3, 4, 5, 6, 7, 8, 9])\n",
    "print(array23[0], array23[array23.size - 1])\n",
    "print(array23[-array23.size], array23[-1])"
   ]
  },
  {
   "cell_type": "markdown",
   "id": "750dc89d",
   "metadata": {},
   "source": [
    "⼆维数组，代码："
   ]
  },
  {
   "cell_type": "code",
   "execution_count": 38,
   "id": "c88fa5a5",
   "metadata": {},
   "outputs": [
    {
     "name": "stdout",
     "output_type": "stream",
     "text": [
      "[7 8 9]\n",
      "1 9\n",
      "5 5\n"
     ]
    }
   ],
   "source": [
    "array24 = np.array([[1, 2, 3], [4, 5, 6], [7, 8, 9]])\n",
    "array24\n",
    "print(array24[2])\n",
    "print(array24[0][0], array24[-1][-1])\n",
    "print(array24[1][1], array24[1, 1])"
   ]
  },
  {
   "cell_type": "code",
   "execution_count": 40,
   "id": "4887d944",
   "metadata": {},
   "outputs": [
    {
     "name": "stdout",
     "output_type": "stream",
     "text": [
      "[[ 1  2  3]\n",
      " [ 4 10  6]\n",
      " [ 7  8  9]]\n",
      "[[ 1  2  3]\n",
      " [10 11 12]\n",
      " [ 7  8  9]]\n"
     ]
    }
   ],
   "source": [
    "array24[1][1] = 10\n",
    "print(array24)\n",
    "array24[1] = [10, 11, 12]\n",
    "print(array24)"
   ]
  },
  {
   "cell_type": "markdown",
   "id": "a58ad175",
   "metadata": {},
   "source": [
    "## 3.2. 切片运算（切片索引）\n",
    "切⽚是形如 `[开始索引:结束索引:步⻓]` 的语法，通过指定开始索引（默认值⽆穷⼩）、 结束索引（默认值⽆穷⼤）和步⻓（默认值1），从数组中取出指定部分的元素并构成新的数组。因为开始索引、结束索引和步⻓都有默认值，所以它们都可以省略，如果不指定步⻓，第⼆个冒号也可以省略。⼀维数组的切⽚运算跟 Python中的 list 类型的切⽚⾮常类似，此处不再赘述，⼆维数组的切⽚可以参考下⾯的代码，相信⾮常容易理解。\n",
    "\n",
    "代码："
   ]
  },
  {
   "cell_type": "code",
   "execution_count": 41,
   "id": "d4b1ca3a",
   "metadata": {},
   "outputs": [
    {
     "name": "stdout",
     "output_type": "stream",
     "text": [
      "[[ 2  3]\n",
      " [11 12]]\n"
     ]
    }
   ],
   "source": [
    "print(array24[:2, 1:])"
   ]
  },
  {
   "cell_type": "markdown",
   "id": "9a4fa1e8",
   "metadata": {},
   "source": [
    "关于数组的索引和切⽚运算，⼤家可以通过下⾯的两张图来增强印象。\n",
    "![](https://medbioinfocloud-1251590549.cos.ap-guangzhou.myqcloud.com/notepic202303061539046.png)\n",
    "![](https://medbioinfocloud-1251590549.cos.ap-guangzhou.myqcloud.com/notepic202303061540427.png)"
   ]
  },
  {
   "cell_type": "markdown",
   "id": "5784a896",
   "metadata": {},
   "source": [
    "## 3.3. 花式索引（fancy index）\n",
    "花式索引（Fancy indexing）是指利⽤整数数组进⾏索引，这⾥所说的整数数组可以是 NumPy 的 ndarray，也可以是 Python 中 list、 tuple 等可迭代类型，可以使⽤正向或负向索引。\n",
    "\n",
    "⼀维数组的花式索引，代码："
   ]
  },
  {
   "cell_type": "code",
   "execution_count": 42,
   "id": "6a1e89e0",
   "metadata": {},
   "outputs": [
    {
     "data": {
      "text/plain": [
       "array([50, 30, 40])"
      ]
     },
     "execution_count": 42,
     "metadata": {},
     "output_type": "execute_result"
    }
   ],
   "source": [
    "array25 = np.array([50, 30, 15, 20, 40])\n",
    "array25[[0, 1, -1]]"
   ]
  },
  {
   "cell_type": "markdown",
   "id": "9deb0874",
   "metadata": {},
   "source": [
    "⼆维数组的花式索引，代码："
   ]
  },
  {
   "cell_type": "code",
   "execution_count": 46,
   "id": "13a7f39f",
   "metadata": {},
   "outputs": [
    {
     "data": {
      "text/plain": [
       "array([[30, 20, 10],\n",
       "       [10, 90, 80]])"
      ]
     },
     "execution_count": 46,
     "metadata": {},
     "output_type": "execute_result"
    }
   ],
   "source": [
    "array26 = np.array([[30, 20, 10], [40, 60, 50], [10, 90, 80]])\n",
    "# 取⼆维数组的第1⾏和第3⾏\n",
    "array26[[0, 2]]"
   ]
  },
  {
   "cell_type": "code",
   "execution_count": 47,
   "id": "9e3ea37b",
   "metadata": {},
   "outputs": [
    {
     "data": {
      "text/plain": [
       "array([20, 80])"
      ]
     },
     "execution_count": 47,
     "metadata": {},
     "output_type": "execute_result"
    }
   ],
   "source": [
    "# 取⼆维数组第1⾏第2列，第3⾏第3列的两个元素\n",
    "array26[[0, 2], [1, 2]]"
   ]
  },
  {
   "cell_type": "markdown",
   "id": "d2bcf3e0",
   "metadata": {},
   "source": [
    "## 3.4. 布尔索引\n",
    "布尔索引就是通过布尔类型的数组对数组元素进⾏索引，布尔类型的数组可以⼿动构造，也可以通过关系运算来产⽣布尔类型的数组。"
   ]
  },
  {
   "cell_type": "code",
   "execution_count": 49,
   "id": "1ab78477",
   "metadata": {},
   "outputs": [
    {
     "data": {
      "text/plain": [
       "array([1, 3, 4, 9])"
      ]
     },
     "execution_count": 49,
     "metadata": {},
     "output_type": "execute_result"
    }
   ],
   "source": [
    "array27 = np.arange(1, 10)\n",
    "array27[[True, False, True, True, False, False, False, False, True]]"
   ]
  },
  {
   "cell_type": "code",
   "execution_count": 50,
   "id": "bae50e50",
   "metadata": {},
   "outputs": [
    {
     "data": {
      "text/plain": [
       "array([False, False, False, False,  True,  True,  True,  True,  True])"
      ]
     },
     "execution_count": 50,
     "metadata": {},
     "output_type": "execute_result"
    }
   ],
   "source": [
    "array27 >= 5"
   ]
  },
  {
   "cell_type": "markdown",
   "id": "212b00de",
   "metadata": {},
   "source": [
    "# 4.数组对象的方法\n",
    "## 4.1 统计方法\n",
    "统计⽅法主要包括： sum() 、 mean() 、 std() 、 var() 、 min() 、 max() 、 argmin() 、 argmax() 、 cumsum()等，分别⽤于对数组中的元素求和、求平均、求标准差、求⽅差、找最⼤、找最⼩、求累积和等，请参考下⾯的代码。"
   ]
  },
  {
   "cell_type": "code",
   "execution_count": 51,
   "id": "fcc2e44d",
   "metadata": {},
   "outputs": [
    {
     "name": "stdout",
     "output_type": "stream",
     "text": [
      "30\n",
      "3.0\n",
      "5\n",
      "1\n",
      "1.4142135623730951\n",
      "2.0\n",
      "[ 1  3  6 10 15 20 24 27 29 30]\n"
     ]
    }
   ],
   "source": [
    "array28 = np.array([1, 2, 3, 4, 5, 5, 4, 3, 2, 1])\n",
    "print(array28.sum())\n",
    "print(array28.mean())\n",
    "print(array28.max())\n",
    "print(array28.min())\n",
    "print(array28.std())\n",
    "print(array28.var())\n",
    "print(array28.cumsum())"
   ]
  },
  {
   "cell_type": "markdown",
   "id": "35d4a21c",
   "metadata": {},
   "source": [
    "## 4.2 其他⽅法\n",
    "all() / any() ⽅法：判断数组是否所有元素都是 True / 判断数组是否有为 True 的元素。\n",
    "\n",
    "astype() ⽅法：拷⻉数组，并将数组中的元素转换为指定的类型。\n",
    "\n",
    "dump() ⽅法：保存数组到⽂件中，可以通过 NumPy 中的 load() 函数从保存的⽂件中加载数据创建数组。\n",
    "\n",
    "fill() ⽅法：向数组中填充指定的元素。\n",
    "\n",
    "flatten() ⽅法：将多维数组扁平化为⼀维数组。\n",
    "\n",
    "nonzero() ⽅法：返回⾮0元素的索引。\n",
    "\n",
    "round() ⽅法：对数组中的元素做四舍五⼊操作。\n",
    "\n",
    "sort() ⽅法：对数组进⾏就地排序。\n",
    "\n",
    "swapaxes() 和 transpose() ⽅法：交换数组指定的轴。\n",
    "\n",
    "tolist() ⽅法：将数组转成Python中的 list。"
   ]
  },
  {
   "cell_type": "code",
   "execution_count": 56,
   "id": "d023bbb9",
   "metadata": {},
   "outputs": [
    {
     "data": {
      "text/plain": [
       "array([12, 35, 40, 54, 66, 78, 82, 96])"
      ]
     },
     "execution_count": 56,
     "metadata": {},
     "output_type": "execute_result"
    }
   ],
   "source": [
    "array33 = np.array([35, 96, 12, 78, 66, 54, 40, 82])\n",
    "array33.sort()\n",
    "array33"
   ]
  }
 ],
 "metadata": {
  "kernelspec": {
   "display_name": "Python 3 (ipykernel)",
   "language": "python",
   "name": "python3"
  },
  "language_info": {
   "codemirror_mode": {
    "name": "ipython",
    "version": 3
   },
   "file_extension": ".py",
   "mimetype": "text/x-python",
   "name": "python",
   "nbconvert_exporter": "python",
   "pygments_lexer": "ipython3",
   "version": "3.10.7"
  }
 },
 "nbformat": 4,
 "nbformat_minor": 5
}
