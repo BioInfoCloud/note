{
 "cells": [
  {
   "cell_type": "markdown",
   "id": "55a177bc",
   "metadata": {},
   "source": [
    "\n",
    "\n",
    "## GFICF Installation"
   ]
  },
  {
   "cell_type": "markdown",
   "id": "bb08d4be",
   "metadata": {},
   "source": [
    "### Download gsl library for Windows\n",
    "\n",
    "下载地址：[https://sourceforge.net/projects/gnu-scientific-library-windows/](https://sourceforge.net/projects/gnu-scientific-library-windows/)\n",
    "\n",
    "下载后解压，解压后的文件路径作为Sys.setenv的GSL_LIBS参数"
   ]
  },
  {
   "cell_type": "code",
   "execution_count": 2,
   "id": "3875d756",
   "metadata": {},
   "outputs": [],
   "source": [
    "Sys.setenv(GSL_LIBS = '\"D:/Program Files/R/scripts/gsl-2.2.1_mingw-6.2.0\"')"
   ]
  },
  {
   "cell_type": "code",
   "execution_count": null,
   "id": "ae0cdc4e",
   "metadata": {},
   "outputs": [],
   "source": [
    "if (!requireNamespace(\"BiocManager\", quietly = TRUE)) {\n",
    "  install.packages(\"BiocManager\")\n",
    "}\n",
    "\n",
    "BiocManager::install(setdiff(c(\"sva\",\"edgeR\", \"fgsea\"),rownames(installed.packages())),update = F)"
   ]
  },
  {
   "cell_type": "code",
   "execution_count": null,
   "id": "ef4497be",
   "metadata": {},
   "outputs": [],
   "source": []
  }
 ],
 "metadata": {
  "kernelspec": {
   "display_name": "R",
   "language": "R",
   "name": "ir"
  },
  "language_info": {
   "codemirror_mode": "r",
   "file_extension": ".r",
   "mimetype": "text/x-r-source",
   "name": "R",
   "pygments_lexer": "r",
   "version": "4.1.0"
  }
 },
 "nbformat": 4,
 "nbformat_minor": 5
}
