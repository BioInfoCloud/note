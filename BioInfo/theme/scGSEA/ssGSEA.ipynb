{
 "cells": [
  {
   "cell_type": "markdown",
   "id": "39d860ac",
   "metadata": {},
   "source": [
    "\n",
    "\n",
    "## GFICF Installation"
   ]
  },
  {
   "cell_type": "markdown",
   "id": "3c2ab480",
   "metadata": {},
   "source": [
    "### Download gsl library for Windows\n",
    "\n",
    "下载地址：[https://sourceforge.net/projects/gnu-scientific-library-windows/](https://sourceforge.net/projects/gnu-scientific-library-windows/)\n",
    "\n",
    "下载后解压，解压后的文件路径作为Sys.setenv的GSL_LIBS参数"
   ]
  },
  {
   "cell_type": "code",
   "execution_count": 2,
   "id": "c8b9f357",
   "metadata": {},
   "outputs": [],
   "source": [
    "Sys.setenv(GSL_LIBS = '\"D:/Program Files/R/scripts/gsl-2.2.1_mingw-6.2.0\"')"
   ]
  },
  {
   "cell_type": "markdown",
   "id": "978ea634",
   "metadata": {},
   "source": [
    "### Install GF-ICF package\n",
    "\n",
    "#### 安装依赖"
   ]
  },
  {
   "cell_type": "code",
   "execution_count": 3,
   "id": "d46c82a5",
   "metadata": {},
   "outputs": [
    {
     "name": "stderr",
     "output_type": "stream",
     "text": [
      "'getOption(\"repos\")' replaces Bioconductor standard repositories, see\n",
      "'help(\"repositories\", package = \"BiocManager\")' for details.\n",
      "Replacement repositories:\n",
      "    CRAN: https://cran.r-project.org\n",
      "\n",
      "Bioconductor version 3.14 (BiocManager 1.30.22), R 4.1.0 (2021-05-18)\n",
      "\n"
     ]
    }
   ],
   "source": [
    "if (!requireNamespace(\"BiocManager\", quietly = TRUE)) {\n",
    "  install.packages(\"BiocManager\")\n",
    "}\n",
    "\n",
    "BiocManager::install(setdiff(c(\"sva\",\"edgeR\", \"fgsea\"),rownames(installed.packages())),update = F)"
   ]
  },
  {
   "cell_type": "code",
   "execution_count": 4,
   "id": "ba105a59",
   "metadata": {},
   "outputs": [
    {
     "name": "stderr",
     "output_type": "stream",
     "text": [
      "从'C:/Users/chens/Documents/R/win-library/4.1'中删除程序包\n",
      "(因为没有指定'lib')\n",
      "\n"
     ]
    },
    {
     "ename": "ERROR",
     "evalue": "Error in find.package(pkgs, lib): 不存在叫'RcppML'这个名字的程辑包\n",
     "output_type": "error",
     "traceback": [
      "Error in find.package(pkgs, lib): 不存在叫'RcppML'这个名字的程辑包\nTraceback:\n",
      "1. remove.packages(\"RcppML\")   # at line 2 of file <text>",
      "2. find.package(pkgs, lib)"
     ]
    }
   ],
   "source": [
    "# We rquire RcppML package from github (not the cran version)\n",
    "if(\"RcppML\" %in% rownames(installed.packages())){remove.packages(\"RcppML\")}\n",
    "devtools::install_github(\"zdebruine/RcppML\")"
   ]
  },
  {
   "cell_type": "markdown",
   "id": "9202d452",
   "metadata": {},
   "source": [
    "上面代码的意思是将RcppML这个包移除，重新从github上安装。移除过程中，没有指定包的位置，默认移除用户名目录下Documents/R/win-library/中的，如果在R的安装目录中，打开你安装的R目录中的library目录【如：D:\\Program Files\\R\\R-4.1.0\\library】，手动移除。然后重新安装。\n",
    "如果安装过程中出现下面选项，请选择None\n",
    "![](https://medbioinfocloud-1251590549.cos.ap-guangzhou.myqcloud.com/notepic202309190914475.png)\n"
   ]
  },
  {
   "cell_type": "markdown",
   "id": "2fae12b4",
   "metadata": {},
   "source": [
    "#### 安装gficf"
   ]
  },
  {
   "cell_type": "code",
   "execution_count": null,
   "id": "f240af84",
   "metadata": {},
   "outputs": [],
   "source": [
    "# Install gficf from github\n",
    "if(!require(devtools)){ install.packages(\"devtools\")}\n",
    "devtools::install_github(\"gambalab/gficf\")"
   ]
  }
 ],
 "metadata": {
  "kernelspec": {
   "display_name": "R",
   "language": "R",
   "name": "ir"
  },
  "language_info": {
   "codemirror_mode": "r",
   "file_extension": ".r",
   "mimetype": "text/x-r-source",
   "name": "R",
   "pygments_lexer": "r",
   "version": "4.1.0"
  }
 },
 "nbformat": 4,
 "nbformat_minor": 5
}
